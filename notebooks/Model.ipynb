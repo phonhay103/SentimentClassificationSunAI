{
 "cells": [
  {
   "cell_type": "markdown",
   "metadata": {},
   "source": [
    "# Load the libraries"
   ]
  },
  {
   "cell_type": "code",
   "execution_count": 1,
   "metadata": {
    "id": "YThEFR0mFGOQ"
   },
   "outputs": [],
   "source": [
    "import tensorflow as tf\n",
    "import numpy as np\n",
    "import matplotlib.pyplot as plt\n",
    "import re\n",
    "import string\n",
    "import pandas as pd\n",
    "from tensorflow import one_hot\n",
    "from sklearn.model_selection import train_test_split\n",
    "from pandas_profiling import ProfileReport\n",
    "from tensorflow.keras.preprocessing.text import Tokenizer\n",
    "from tensorflow.keras.preprocessing.sequence import pad_sequences\n",
    "from tensorflow.keras.models import Sequential\n",
    "from tensorflow.keras.layers import Dense, Embedding\n",
    "from tensorflow.keras.layers import GlobalAveragePooling1D\n",
    "# from tensorflow.keras.layers import Dropout, BatchNormalization\n",
    "from joblib import dump"
   ]
  },
  {
   "cell_type": "markdown",
   "metadata": {},
   "source": [
    "# Load data"
   ]
  },
  {
   "cell_type": "code",
   "execution_count": 2,
   "metadata": {
    "id": "nVOQ4w1dOtt0"
   },
   "outputs": [],
   "source": [
    "def load_data(file_type='train'):\n",
    "    path = '../datasets/'\n",
    "    data = []\n",
    "    label = []\n",
    "\n",
    "    with open(path + file_type + '.txt', encoding='utf8') as file:\n",
    "        lines = file.read()\n",
    "\n",
    "    samples = lines.strip().split(f\"\\n\\n{file_type}_\")\n",
    "\n",
    "    for sample in samples:\n",
    "        sample = sample.strip()\n",
    "        d = sample[8:-3].strip()\n",
    "        t = sample[-1:]\n",
    "        data.append(d)\n",
    "        label.append(t)\n",
    "\n",
    "    return data, label"
   ]
  },
  {
   "cell_type": "code",
   "execution_count": 3,
   "metadata": {},
   "outputs": [],
   "source": [
    "data, label = load_data('train')\n",
    "label = np.array(list(map(int, label)))\n",
    "\n",
    "evaluation = list(map(lambda x: 'Bad' if x else 'Good', label))\n",
    "df = pd.DataFrame({'Reviews':data, 'Evaluation':evaluation})"
   ]
  },
  {
   "cell_type": "markdown",
   "metadata": {},
   "source": [
    "# Pre-processing"
   ]
  },
  {
   "cell_type": "code",
   "execution_count": 4,
   "metadata": {
    "id": "MxxaRrcFOptR"
   },
   "outputs": [],
   "source": [
    "VN_CHARS_LOWER = u'ạảãàáâậầấẩẫăắằặẳẵóòọõỏôộổỗồốơờớợởỡéèẻẹẽêếềệểễúùụủũưựữửừứíìịỉĩýỳỷỵỹđð'\n",
    "\n",
    "replace_list = {\n",
    "    'òa': 'oà', 'óa': 'oá', 'ỏa': 'oả', 'õa': 'oã', 'ọa': 'oạ', 'òe': 'oè', 'óe': 'oé','ỏe': 'oẻ',\n",
    "    'õe': 'oẽ', 'ọe': 'oẹ', 'ùy': 'uỳ', 'úy': 'uý', 'ủy': 'uỷ', 'ũy': 'uỹ','ụy': 'uỵ', 'uả': 'ủa',\n",
    "    'ả': 'ả', 'ố': 'ố', 'u´': 'ố','ỗ': 'ỗ', 'ồ': 'ồ', 'ổ': 'ổ', 'ấ': 'ấ', 'ẫ': 'ẫ', 'ẩ': 'ẩ',\n",
    "    'ầ': 'ầ', 'ỏ': 'ỏ', 'ề': 'ề','ễ': 'ễ', 'ắ': 'ắ', 'ủ': 'ủ', 'ế': 'ế', 'ở': 'ở', 'ỉ': 'ỉ',\n",
    "    'ẻ': 'ẻ', 'àk': u' à ','aˋ': 'à', 'iˋ': 'ì', 'ă´': 'ắ','ử': 'ử', 'e˜': 'ẽ', 'y˜': 'ỹ', 'a´': 'á',\n",
    "    #Emoji: positive or negative\n",
    "    \"👹\": \"negative\", \"👻\": \"positive\", \"💃\": \"positive\",'🤙': ' positive ', '👍': ' positive ',\n",
    "    \"💄\": \"positive\", \"💎\": \"positive\", \"💩\": \"positive\",\"😕\": \"negative\", \"😱\": \"negative\", \"😸\": \"positive\",\n",
    "    \"😾\": \"negative\", \"🚫\": \"negative\",  \"🤬\": \"negative\",\"🧚\": \"positive\", \"🧡\": \"positive\",'🐶':' positive ',\n",
    "    '👎': ' negative ', '😣': ' negative ','✨': ' positive ', '❣': ' positive ','☀': ' positive ',\n",
    "    '♥': ' positive ', '🤩': ' positive ', 'like': ' positive ', '💌': ' positive ',\n",
    "    '🤣': ' positive ', '🖤': ' positive ', '🤤': ' positive ', ':(': ' negative ', '😢': ' negative ',\n",
    "    '❤': ' positive ', '😍': ' positive ', '😘': ' positive ', '😪': ' negative ', '😊': ' positive ',\n",
    "    '?': ' ? ', '😁': ' positive ', '💖': ' positive ', '😟': ' negative ', '😭': ' negative ',\n",
    "    '💯': ' positive ', '💗': ' positive ', '♡': ' positive ', '💜': ' positive ', '🤗': ' positive ',\n",
    "    '^^': ' positive ', '😨': ' negative ', '☺': ' positive ', '💋': ' positive ', '👌': ' positive ',\n",
    "    '😖': ' negative ', '😀': ' positive ', ':((': ' negative ', '😡': ' negative ', '😠': ' negative ',\n",
    "    '😒': ' negative ', '🙂': ' positive ', '😏': ' negative ', '😝': ' positive ', '😄': ' positive ',\n",
    "    '😙': ' positive ', '😤': ' negative ', '😎': ' positive ', '😆': ' positive ', '💚': ' positive ',\n",
    "    '✌': ' positive ', '💕': ' positive ', '😞': ' negative ', '😓': ' negative ', '️🆗️': ' positive ',\n",
    "    '😉': ' positive ', '😂': ' positive ', ':v': '  positive ', '=))': '  positive ', '😋': ' positive ',\n",
    "    '💓': ' positive ', '😐': ' negative ', ':3': ' positive ', '😫': ' negative ', '😥': ' negative ',\n",
    "    '😃': ' positive ', '😬': ' 😬 ', '😌': ' 😌 ', '💛': ' positive ', '🤝': ' positive ', '🎈': ' positive ',\n",
    "    '😗': ' positive ', '🤔': ' negative ', '😑': ' negative ', '🔥': ' negative ', '🙏': ' negative ',\n",
    "    '🆗': ' positive ', '😻': ' positive ', '💙': ' positive ', '💟': ' positive ',\n",
    "    '😚': ' positive ', '❌': ' negative ', '👏': ' positive ', ';)': ' positive ', '<3': ' positive ',\n",
    "    '🌝': ' positive ',  '🌷': ' positive ', '🌸': ' positive ', '🌺': ' positive ',\n",
    "    '🌼': ' positive ', '🍓': ' positive ', '🐅': ' positive ', '🐾': ' positive ', '👉': ' positive ',\n",
    "    '💐': ' positive ', '💞': ' positive ', '💥': ' positive ', '💪': ' positive ',\n",
    "    '💰': ' positive ',  '😇': ' positive ', '😛': ' positive ', '😜': ' positive ',\n",
    "    '🙃': ' positive ', '🤑': ' positive ', '🤪': ' positive ','☹': ' negative ',  '💀': ' negative ',\n",
    "    '😔': ' negative ', '😧': ' negative ', '😩': ' negative ', '😰': ' negative ', '😳': ' negative ',\n",
    "    '😵': ' negative ', '😶': ' negative ', '🙁': ' negative ', 't_t':' negative ', '✔': ' positive ',\n",
    "    '🙈': ' positive ',\n",
    "    # Sentiment words/English words\n",
    "    ':))': '  positive ', ':)': ' positive ', 'ô kêi': ' ok ', 'okie': ' ok ', ' o kê ': ' ok ',\n",
    "    'okey': ' ok ', 'ôkê': ' ok ', 'oki': ' ok ', ' oke ':  ' ok ',' okay':' ok ','okê':' ok ',\n",
    "    ' tks ': u' cám ơn ', 'thks': u' cám ơn ', 'thanks': u' cám ơn ', 'ths': u' cám ơn ', 'thank': u' cám ơn ',\n",
    "    '⭐': 'star ', '*': 'star ', '🌟': 'star ', '🎉': u' positive ',\n",
    "    'kg ': u' không ','not': u' không ', u' kg ': u' không ', '\"k ': u' không ',' kh ':u' không ','kô':u' không ','hok':u' không ',' kp ': u' không phải ',u' kô ': u' không ', \n",
    "    '\"ko ': u' không ', u' ko ': u' không ', u' k ': u' không ', 'khong': u' không ', u' hok ': u' không ',\n",
    "    'he he': ' positive ','hehe': ' positive ','hihi': ' positive ', 'haha': ' positive ', 'hjhj': ' positive ',\n",
    "    ' lol ': ' negative ',' cc ': ' negative ','cute': u' dễ thương ','huhu': ' negative ', ' vs ': u' với ', 'wa': ' quá ', 'wá': u' quá', 'j': u' gì ', '“': ' ',\n",
    "    ' sz ': u' cỡ ', 'size': u' cỡ ', u' đx ': u' được ', 'dk': u' được ', 'dc': u' được ', 'đk': u' được ',\n",
    "    'đc': u' được ','authentic': u' chuẩn chính hãng ',u' aut ': u' chuẩn chính hãng ', u' auth ': u' chuẩn chính hãng ', 'thick': u' positive ', 'store': u' cửa hàng ',\n",
    "    'shop': u' cửa hàng ', 'sp': u' sản phẩm ', 'gud': u' tốt ','god': u' tốt ','wel done':' tốt ', 'good': u' tốt ', 'gút': u' tốt ',\n",
    "    'sấu': u' xấu ','gut': u' tốt ', u' tot ': u' tốt ', u' nice ': u' tốt ', 'perfect': 'rất tốt', 'bt': u' bình thường ',\n",
    "    'time': u' thời gian ', 'qá': u' quá ', u' ship ': u' giao hàng ', u' m ': u' mình ', u' mik ': u' mình ',\n",
    "    'ể': 'ể', 'product': 'sản phẩm', 'quality': 'chất lượng','chat':' chất ', 'excelent': 'hoàn hảo', 'bad': 'tệ','fresh': ' tươi ','sad': ' tệ ',\n",
    "    'date': u' hạn sử dụng ', 'hsd': u' hạn sử dụng ','quickly': u' nhanh ', 'quick': u' nhanh ','fast': u' nhanh ','delivery': u' giao hàng ',u' síp ': u' giao hàng ',\n",
    "    'beautiful': u' đẹp tuyệt vời ', u' tl ': u' trả lời ', u' r ': u' rồi ', u' shopE ': u' cửa hàng ',u' order ': u' đặt hàng ',\n",
    "    'chất lg': u' chất lượng ',u' sd ': u' sử dụng ',u' dt ': u' điện thoại ',u' nt ': u' nhắn tin ',u' tl ': u' trả lời ',u' sài ': u' xài ',u'bjo':u' bao giờ ',\n",
    "    'thik': u' thích ',u' sop ': u' cửa hàng ', ' fb ': ' facebook ', ' face ': ' facebook ', ' very ': u' rất ',u'quả ng ':u' quảng  ',\n",
    "    'dep': u' đẹp ',u' xau ': u' xấu ','delicious': u' ngon ', u'hàg': u' hàng ', u'qủa': u' quả ',\n",
    "    'iu': u' yêu ','fake': u' giả mạo ', 'trl': 'trả lời', '><': u' positive ', 'hih':'hình',\n",
    "    ' por ': u' tệ ',' poor ': u' tệ ', 'ib':u' nhắn tin ', 'rep':u' trả lời ',u'fback':' feedback ','fedback':' feedback ',\n",
    "    # Star\n",
    "    '6 sao': ' 5star ','6 star': ' 5star ', '5star': ' 5star ','5 sao': ' 5star ','5sao': ' 5star ',\n",
    "    'starstarstarstarstar': ' 5star ', '1 sao': ' 1star ', '1sao': ' 1star ','2 sao':' 1star ','2sao':' 1star ',\n",
    "    '2 starstar':' 1star ','1star': ' 1star ', '0 sao': ' 1star ', '0star': ' 1star ',}"
   ]
  },
  {
   "cell_type": "code",
   "execution_count": 5,
   "metadata": {
    "id": "V89vq6eeOv9C"
   },
   "outputs": [],
   "source": [
    "def remove_accents(text):\n",
    "    __INTAB = [ch for ch in VN_CHARS_LOWER]\n",
    "    __OUTTAB = \"a\"*17 + \"o\"*17 + \"e\"*11 + \"u\"*11 + \"i\"*5 + \"y\"*5 + \"d\"*2\n",
    "    __OUTTAB += \"A\"*17 + \"O\"*17 + \"E\"*11 + \"U\"*11 + \"I\"*5 + \"Y\"*5 + \"D\"*2\n",
    "    __r = re.compile(\"|\".join(__INTAB))\n",
    "    __replaces_dict = dict(zip(__INTAB, __OUTTAB))\n",
    "    result = __r.sub(lambda m: __replaces_dict[m.group(0)], text)\n",
    "    return result\n",
    "\n",
    "def remove_punctuations(text):\n",
    "    # Convert punctuation to space\n",
    "    translator = str.maketrans(string.punctuation, ' ' * len(string.punctuation))\n",
    "    s = text.translate(translator)\n",
    "    \n",
    "    s = s.replace(u'\"', u' ')\n",
    "    s = s.replace('🏻','')\n",
    "    s = ' '.join(s.strip().split())\n",
    "    return s\n",
    "\n",
    "def normalize_text(text):\n",
    "    # convert_to_lowercase\n",
    "    s = text.lower()\n",
    "    \n",
    "    for k, v in replace_list.items():\n",
    "        s = s.replace(k, v)\n",
    "    \n",
    "    # remove_stretched_characters\n",
    "    s = re.sub(r'([A-Z])\\1+', lambda m: m.group(1).lower(), s, flags=re.IGNORECASE)\n",
    "    s = remove_accents(s)\n",
    "    s = remove_punctuations(s)\n",
    "    return s\n",
    "\n",
    "def normalize_data(data):\n",
    "    return [normalize_text(text) for text in data]"
   ]
  },
  {
   "cell_type": "code",
   "execution_count": 6,
   "metadata": {
    "colab": {
     "base_uri": "https://localhost:8080/"
    },
    "id": "xhjovCaxOxkj",
    "outputId": "ef064f8f-bb46-4da6-df97-cb40e64624ec"
   },
   "outputs": [
    {
     "name": "stdout",
     "output_type": "stream",
     "text": [
      "Train: \t\t 11260  samples\n",
      "Validation: \t 4827  samples\n",
      "Vocab_size: \t 4509\n"
     ]
    }
   ],
   "source": [
    "oov_tok = \"<OOV>\"\n",
    "embedding_dim = 32\n",
    "\n",
    "max_length = 100\n",
    "trunc_type='post'\n",
    "padding_type='post'\n",
    "\n",
    "normalized_data = normalize_data(data)\n",
    "train_sequences, valid_sequences, train_labels, valid_labels = train_test_split(normalized_data, label, test_size=0.3)\n",
    "\n",
    "tokenizer = Tokenizer(oov_token=oov_tok)\n",
    "tokenizer.fit_on_texts(train_sequences)\n",
    "vocab_size = len(tokenizer.word_index.items())+1\n",
    "\n",
    "train_sequences = tokenizer.texts_to_sequences(train_sequences)\n",
    "valid_sequences = tokenizer.texts_to_sequences(valid_sequences)\n",
    "\n",
    "train_padded = pad_sequences(train_sequences, maxlen=max_length, padding=padding_type, truncating=trunc_type)\n",
    "valid_padded = pad_sequences(valid_sequences, maxlen=max_length, padding=padding_type, truncating=trunc_type)\n",
    "\n",
    "print('Train: \\t\\t', len(train_sequences), ' samples')\n",
    "print('Validation: \\t', len(valid_sequences), ' samples')\n",
    "print('Vocab_size: \\t', vocab_size)"
   ]
  },
  {
   "cell_type": "code",
   "execution_count": 7,
   "metadata": {},
   "outputs": [
    {
     "data": {
      "text/plain": [
       "['../models/tokenizer.joblib']"
      ]
     },
     "execution_count": 7,
     "metadata": {},
     "output_type": "execute_result"
    }
   ],
   "source": [
    "dump(tokenizer, '../models/tokenizer.joblib')"
   ]
  },
  {
   "cell_type": "markdown",
   "metadata": {},
   "source": [
    "# Model"
   ]
  },
  {
   "cell_type": "code",
   "execution_count": 8,
   "metadata": {
    "colab": {
     "base_uri": "https://localhost:8080/"
    },
    "id": "HCTzTCBfQeo-",
    "outputId": "1079e520-a171-4ee0-bdda-ba1ddb56a058"
   },
   "outputs": [
    {
     "name": "stdout",
     "output_type": "stream",
     "text": [
      "Model: \"sequential\"\n",
      "_________________________________________________________________\n",
      "Layer (type)                 Output Shape              Param #   \n",
      "=================================================================\n",
      "embedding (Embedding)        (None, 100, 32)           144288    \n",
      "_________________________________________________________________\n",
      "global_average_pooling1d (Gl (None, 32)                0         \n",
      "_________________________________________________________________\n",
      "dense (Dense)                (None, 10)                330       \n",
      "_________________________________________________________________\n",
      "dense_1 (Dense)              (None, 1)                 11        \n",
      "=================================================================\n",
      "Total params: 144,629\n",
      "Trainable params: 144,629\n",
      "Non-trainable params: 0\n",
      "_________________________________________________________________\n"
     ]
    }
   ],
   "source": [
    "model = Sequential()\n",
    "model.add(Embedding(vocab_size, embedding_dim, input_length=max_length))\n",
    "model.add(GlobalAveragePooling1D())\n",
    "model.add(Dense(10, activation='relu', kernel_regularizer='l2'))\n",
    "model.add(Dense(1, activation='sigmoid'))\n",
    "model.summary()"
   ]
  },
  {
   "cell_type": "code",
   "execution_count": 9,
   "metadata": {},
   "outputs": [
    {
     "name": "stdout",
     "output_type": "stream",
     "text": [
      "Epoch 1/100\n",
      "44/44 - 0s - loss: 0.8176 - acc: 0.5797 - val_loss: 0.7879 - val_acc: 0.5846\n",
      "Epoch 2/100\n",
      "44/44 - 0s - loss: 0.7622 - acc: 0.5973 - val_loss: 0.7429 - val_acc: 0.5964\n",
      "Epoch 3/100\n",
      "44/44 - 0s - loss: 0.7223 - acc: 0.6131 - val_loss: 0.7076 - val_acc: 0.6172\n",
      "Epoch 4/100\n",
      "44/44 - 0s - loss: 0.6885 - acc: 0.6374 - val_loss: 0.6753 - val_acc: 0.6370\n",
      "Epoch 5/100\n",
      "44/44 - 0s - loss: 0.6555 - acc: 0.6647 - val_loss: 0.6427 - val_acc: 0.6679\n",
      "Epoch 6/100\n",
      "44/44 - 0s - loss: 0.6224 - acc: 0.6987 - val_loss: 0.6107 - val_acc: 0.7037\n",
      "Epoch 7/100\n",
      "44/44 - 0s - loss: 0.5894 - acc: 0.7333 - val_loss: 0.5807 - val_acc: 0.7371\n",
      "Epoch 8/100\n",
      "44/44 - 0s - loss: 0.5589 - acc: 0.7606 - val_loss: 0.5541 - val_acc: 0.7647\n",
      "Epoch 9/100\n",
      "44/44 - 0s - loss: 0.5318 - acc: 0.7880 - val_loss: 0.5304 - val_acc: 0.7970\n",
      "Epoch 10/100\n",
      "44/44 - 0s - loss: 0.5080 - acc: 0.8084 - val_loss: 0.5105 - val_acc: 0.8040\n",
      "Epoch 11/100\n",
      "44/44 - 0s - loss: 0.4872 - acc: 0.8233 - val_loss: 0.4923 - val_acc: 0.8351\n",
      "Epoch 12/100\n",
      "44/44 - 0s - loss: 0.4691 - acc: 0.8392 - val_loss: 0.4778 - val_acc: 0.8196\n",
      "Epoch 13/100\n",
      "44/44 - 0s - loss: 0.4529 - acc: 0.8471 - val_loss: 0.4621 - val_acc: 0.8486\n",
      "Epoch 14/100\n",
      "44/44 - 0s - loss: 0.4385 - acc: 0.8591 - val_loss: 0.4535 - val_acc: 0.8256\n",
      "Epoch 15/100\n",
      "44/44 - 0s - loss: 0.4268 - acc: 0.8616 - val_loss: 0.4388 - val_acc: 0.8521\n",
      "Epoch 16/100\n",
      "44/44 - 0s - loss: 0.4156 - acc: 0.8665 - val_loss: 0.4299 - val_acc: 0.8668\n",
      "Epoch 17/100\n",
      "44/44 - 0s - loss: 0.4051 - acc: 0.8726 - val_loss: 0.4227 - val_acc: 0.8446\n",
      "Epoch 18/100\n",
      "44/44 - 0s - loss: 0.3969 - acc: 0.8749 - val_loss: 0.4136 - val_acc: 0.8687\n",
      "Epoch 19/100\n",
      "44/44 - 0s - loss: 0.3878 - acc: 0.8794 - val_loss: 0.4067 - val_acc: 0.8670\n",
      "Epoch 20/100\n",
      "44/44 - 0s - loss: 0.3807 - acc: 0.8821 - val_loss: 0.4009 - val_acc: 0.8765\n",
      "Epoch 21/100\n",
      "44/44 - 0s - loss: 0.3737 - acc: 0.8837 - val_loss: 0.3952 - val_acc: 0.8680\n",
      "Epoch 22/100\n",
      "44/44 - 0s - loss: 0.3673 - acc: 0.8863 - val_loss: 0.3901 - val_acc: 0.8790\n",
      "Epoch 23/100\n",
      "44/44 - 0s - loss: 0.3630 - acc: 0.8889 - val_loss: 0.3857 - val_acc: 0.8794\n",
      "Epoch 24/100\n",
      "44/44 - 0s - loss: 0.3565 - acc: 0.8903 - val_loss: 0.3816 - val_acc: 0.8718\n",
      "Epoch 25/100\n",
      "44/44 - 0s - loss: 0.3516 - acc: 0.8933 - val_loss: 0.3771 - val_acc: 0.8753\n",
      "Epoch 26/100\n",
      "44/44 - 0s - loss: 0.3464 - acc: 0.8951 - val_loss: 0.3764 - val_acc: 0.8616\n",
      "Epoch 27/100\n",
      "44/44 - 0s - loss: 0.3422 - acc: 0.8940 - val_loss: 0.3700 - val_acc: 0.8774\n",
      "Epoch 28/100\n",
      "44/44 - 0s - loss: 0.3380 - acc: 0.8952 - val_loss: 0.3668 - val_acc: 0.8788\n",
      "Epoch 29/100\n",
      "44/44 - 0s - loss: 0.3338 - acc: 0.8977 - val_loss: 0.3638 - val_acc: 0.8784\n",
      "Epoch 30/100\n",
      "44/44 - 0s - loss: 0.3299 - acc: 0.8978 - val_loss: 0.3612 - val_acc: 0.8784\n",
      "Epoch 31/100\n",
      "44/44 - 0s - loss: 0.3270 - acc: 0.8980 - val_loss: 0.3600 - val_acc: 0.8753\n",
      "Epoch 32/100\n",
      "44/44 - 0s - loss: 0.3239 - acc: 0.8995 - val_loss: 0.3581 - val_acc: 0.8753\n",
      "Epoch 33/100\n",
      "44/44 - 0s - loss: 0.3209 - acc: 0.8991 - val_loss: 0.3538 - val_acc: 0.8819\n",
      "Epoch 34/100\n",
      "44/44 - 0s - loss: 0.3168 - acc: 0.9015 - val_loss: 0.3535 - val_acc: 0.8767\n",
      "Epoch 35/100\n",
      "44/44 - 0s - loss: 0.3143 - acc: 0.9031 - val_loss: 0.3503 - val_acc: 0.8786\n",
      "Epoch 36/100\n",
      "44/44 - 0s - loss: 0.3109 - acc: 0.9031 - val_loss: 0.3479 - val_acc: 0.8794\n",
      "Epoch 37/100\n",
      "44/44 - 0s - loss: 0.3081 - acc: 0.9042 - val_loss: 0.3461 - val_acc: 0.8832\n",
      "Epoch 38/100\n",
      "44/44 - 0s - loss: 0.3061 - acc: 0.9041 - val_loss: 0.3443 - val_acc: 0.8825\n",
      "Epoch 39/100\n",
      "44/44 - 0s - loss: 0.3032 - acc: 0.9046 - val_loss: 0.3430 - val_acc: 0.8832\n",
      "Epoch 40/100\n",
      "44/44 - 0s - loss: 0.3013 - acc: 0.9052 - val_loss: 0.3420 - val_acc: 0.8809\n",
      "Epoch 41/100\n",
      "44/44 - 0s - loss: 0.2997 - acc: 0.9058 - val_loss: 0.3409 - val_acc: 0.8807\n",
      "Epoch 42/100\n",
      "44/44 - 0s - loss: 0.2965 - acc: 0.9062 - val_loss: 0.3431 - val_acc: 0.8732\n",
      "Epoch 43/100\n",
      "44/44 - 0s - loss: 0.2952 - acc: 0.9071 - val_loss: 0.3382 - val_acc: 0.8809\n",
      "Epoch 44/100\n",
      "44/44 - 0s - loss: 0.2929 - acc: 0.9076 - val_loss: 0.3364 - val_acc: 0.8865\n",
      "Epoch 45/100\n",
      "44/44 - 0s - loss: 0.2905 - acc: 0.9072 - val_loss: 0.3357 - val_acc: 0.8861\n",
      "Epoch 46/100\n",
      "44/44 - 0s - loss: 0.2887 - acc: 0.9079 - val_loss: 0.3342 - val_acc: 0.8873\n",
      "Epoch 47/100\n",
      "44/44 - 0s - loss: 0.2868 - acc: 0.9079 - val_loss: 0.3331 - val_acc: 0.8842\n",
      "Epoch 48/100\n",
      "44/44 - 0s - loss: 0.2848 - acc: 0.9081 - val_loss: 0.3321 - val_acc: 0.8871\n",
      "Epoch 49/100\n",
      "44/44 - 0s - loss: 0.2831 - acc: 0.9083 - val_loss: 0.3312 - val_acc: 0.8867\n",
      "Epoch 50/100\n",
      "44/44 - 0s - loss: 0.2814 - acc: 0.9091 - val_loss: 0.3303 - val_acc: 0.8852\n",
      "Epoch 51/100\n",
      "44/44 - 0s - loss: 0.2796 - acc: 0.9114 - val_loss: 0.3320 - val_acc: 0.8786\n",
      "Epoch 52/100\n",
      "44/44 - 0s - loss: 0.2784 - acc: 0.9091 - val_loss: 0.3289 - val_acc: 0.8844\n",
      "Epoch 53/100\n",
      "44/44 - 0s - loss: 0.2771 - acc: 0.9106 - val_loss: 0.3295 - val_acc: 0.8803\n",
      "Epoch 54/100\n",
      "44/44 - 0s - loss: 0.2753 - acc: 0.9108 - val_loss: 0.3273 - val_acc: 0.8873\n",
      "Epoch 55/100\n",
      "44/44 - 0s - loss: 0.2739 - acc: 0.9111 - val_loss: 0.3266 - val_acc: 0.8856\n",
      "Epoch 56/100\n",
      "44/44 - 0s - loss: 0.2726 - acc: 0.9105 - val_loss: 0.3261 - val_acc: 0.8867\n",
      "Epoch 57/100\n",
      "44/44 - 0s - loss: 0.2713 - acc: 0.9108 - val_loss: 0.3256 - val_acc: 0.8863\n",
      "Epoch 58/100\n",
      "44/44 - 0s - loss: 0.2700 - acc: 0.9108 - val_loss: 0.3251 - val_acc: 0.8875\n",
      "Epoch 59/100\n",
      "44/44 - 0s - loss: 0.2685 - acc: 0.9119 - val_loss: 0.3239 - val_acc: 0.8865\n",
      "Epoch 60/100\n",
      "44/44 - 0s - loss: 0.2673 - acc: 0.9127 - val_loss: 0.3239 - val_acc: 0.8852\n",
      "Epoch 61/100\n",
      "44/44 - 0s - loss: 0.2659 - acc: 0.9129 - val_loss: 0.3257 - val_acc: 0.8798\n",
      "Epoch 62/100\n",
      "44/44 - 0s - loss: 0.2651 - acc: 0.9121 - val_loss: 0.3231 - val_acc: 0.8854\n",
      "Epoch 63/100\n",
      "44/44 - 0s - loss: 0.2635 - acc: 0.9133 - val_loss: 0.3243 - val_acc: 0.8805\n",
      "Epoch 64/100\n",
      "44/44 - 0s - loss: 0.2631 - acc: 0.9125 - val_loss: 0.3221 - val_acc: 0.8869\n",
      "Epoch 65/100\n",
      "44/44 - 0s - loss: 0.2615 - acc: 0.9136 - val_loss: 0.3230 - val_acc: 0.8821\n",
      "Epoch 66/100\n",
      "44/44 - 0s - loss: 0.2613 - acc: 0.9138 - val_loss: 0.3228 - val_acc: 0.8813\n",
      "Epoch 67/100\n",
      "44/44 - 0s - loss: 0.2594 - acc: 0.9144 - val_loss: 0.3208 - val_acc: 0.8865\n",
      "Epoch 68/100\n",
      "44/44 - 0s - loss: 0.2586 - acc: 0.9142 - val_loss: 0.3200 - val_acc: 0.8854\n",
      "Epoch 69/100\n",
      "44/44 - 0s - loss: 0.2570 - acc: 0.9147 - val_loss: 0.3202 - val_acc: 0.8856\n",
      "Epoch 70/100\n",
      "44/44 - 0s - loss: 0.2561 - acc: 0.9146 - val_loss: 0.3200 - val_acc: 0.8861\n",
      "Epoch 71/100\n",
      "44/44 - 0s - loss: 0.2559 - acc: 0.9147 - val_loss: 0.3200 - val_acc: 0.8838\n",
      "Epoch 72/100\n",
      "44/44 - 0s - loss: 0.2544 - acc: 0.9147 - val_loss: 0.3191 - val_acc: 0.8859\n",
      "Epoch 73/100\n",
      "44/44 - 0s - loss: 0.2537 - acc: 0.9151 - val_loss: 0.3184 - val_acc: 0.8856\n",
      "Epoch 74/100\n",
      "44/44 - 0s - loss: 0.2528 - acc: 0.9162 - val_loss: 0.3187 - val_acc: 0.8859\n",
      "Epoch 75/100\n",
      "44/44 - 0s - loss: 0.2521 - acc: 0.9155 - val_loss: 0.3190 - val_acc: 0.8836\n",
      "Epoch 76/100\n",
      "44/44 - 0s - loss: 0.2511 - acc: 0.9164 - val_loss: 0.3186 - val_acc: 0.8854\n",
      "Epoch 77/100\n",
      "44/44 - 0s - loss: 0.2504 - acc: 0.9161 - val_loss: 0.3181 - val_acc: 0.8863\n",
      "Epoch 78/100\n",
      "44/44 - 0s - loss: 0.2491 - acc: 0.9164 - val_loss: 0.3177 - val_acc: 0.8863\n",
      "Epoch 79/100\n",
      "44/44 - 0s - loss: 0.2480 - acc: 0.9169 - val_loss: 0.3170 - val_acc: 0.8850\n",
      "Epoch 80/100\n",
      "44/44 - 0s - loss: 0.2471 - acc: 0.9170 - val_loss: 0.3175 - val_acc: 0.8854\n",
      "Epoch 81/100\n",
      "44/44 - 0s - loss: 0.2463 - acc: 0.9170 - val_loss: 0.3182 - val_acc: 0.8830\n",
      "Epoch 82/100\n",
      "44/44 - 0s - loss: 0.2454 - acc: 0.9175 - val_loss: 0.3171 - val_acc: 0.8859\n",
      "Epoch 83/100\n",
      "44/44 - 0s - loss: 0.2454 - acc: 0.9169 - val_loss: 0.3200 - val_acc: 0.8798\n",
      "Epoch 84/100\n",
      "44/44 - 0s - loss: 0.2444 - acc: 0.9182 - val_loss: 0.3199 - val_acc: 0.8798\n",
      "Epoch 85/100\n",
      "44/44 - 0s - loss: 0.2438 - acc: 0.9179 - val_loss: 0.3166 - val_acc: 0.8854\n",
      "Epoch 86/100\n",
      "44/44 - 0s - loss: 0.2429 - acc: 0.9171 - val_loss: 0.3176 - val_acc: 0.8823\n",
      "Epoch 87/100\n",
      "44/44 - 0s - loss: 0.2421 - acc: 0.9183 - val_loss: 0.3164 - val_acc: 0.8859\n",
      "Epoch 88/100\n",
      "44/44 - 0s - loss: 0.2409 - acc: 0.9191 - val_loss: 0.3169 - val_acc: 0.8840\n",
      "Epoch 89/100\n",
      "44/44 - 0s - loss: 0.2404 - acc: 0.9187 - val_loss: 0.3185 - val_acc: 0.8830\n",
      "Epoch 90/100\n",
      "44/44 - 0s - loss: 0.2397 - acc: 0.9184 - val_loss: 0.3167 - val_acc: 0.8852\n",
      "Epoch 91/100\n",
      "44/44 - 0s - loss: 0.2397 - acc: 0.9187 - val_loss: 0.3167 - val_acc: 0.8856\n",
      "Epoch 92/100\n"
     ]
    },
    {
     "name": "stdout",
     "output_type": "stream",
     "text": [
      "44/44 - 0s - loss: 0.2383 - acc: 0.9194 - val_loss: 0.3164 - val_acc: 0.8883\n",
      "Epoch 93/100\n",
      "44/44 - 0s - loss: 0.2381 - acc: 0.9194 - val_loss: 0.3165 - val_acc: 0.8850\n",
      "Epoch 94/100\n",
      "44/44 - 0s - loss: 0.2369 - acc: 0.9198 - val_loss: 0.3165 - val_acc: 0.8846\n",
      "Epoch 95/100\n",
      "44/44 - 0s - loss: 0.2363 - acc: 0.9199 - val_loss: 0.3162 - val_acc: 0.8850\n",
      "Epoch 96/100\n",
      "44/44 - 0s - loss: 0.2360 - acc: 0.9197 - val_loss: 0.3178 - val_acc: 0.8817\n",
      "Epoch 97/100\n",
      "44/44 - 0s - loss: 0.2351 - acc: 0.9210 - val_loss: 0.3167 - val_acc: 0.8854\n",
      "Epoch 98/100\n",
      "44/44 - 0s - loss: 0.2344 - acc: 0.9209 - val_loss: 0.3181 - val_acc: 0.8819\n",
      "Epoch 99/100\n",
      "44/44 - 0s - loss: 0.2341 - acc: 0.9222 - val_loss: 0.3176 - val_acc: 0.8894\n",
      "Epoch 100/100\n",
      "44/44 - 0s - loss: 0.2336 - acc: 0.9225 - val_loss: 0.3164 - val_acc: 0.8859\n"
     ]
    }
   ],
   "source": [
    "model.compile(loss='binary_crossentropy', optimizer='adam', metrics=['acc'])\n",
    "\n",
    "history = model.fit(\n",
    "    train_padded, train_labels, \n",
    "    epochs=100, \n",
    "    validation_data=(valid_padded, valid_labels), \n",
    "    batch_size=256, \n",
    "    verbose=2\n",
    ")\n",
    "\n",
    "model.save('../models/my_model.h5')"
   ]
  },
  {
   "cell_type": "code",
   "execution_count": 10,
   "metadata": {
    "colab": {
     "base_uri": "https://localhost:8080/",
     "height": 562
    },
    "id": "n9SP8AeKtojv",
    "outputId": "72aa152a-a27a-4c3c-db10-f766148195ce",
    "scrolled": false
   },
   "outputs": [
    {
     "data": {
      "image/png": "[encoded data removed]",
      "text/plain": [
       "<Figure size 432x288 with 1 Axes>"
      ]
     },
     "metadata": {
      "needs_background": "light"
     },
     "output_type": "display_data"
    },
    {
     "data": {
      "image/png": "[encoded data removed]",
      "text/plain": [
       "<Figure size 432x288 with 1 Axes>"
      ]
     },
     "metadata": {
      "needs_background": "light"
     },
     "output_type": "display_data"
    },
    {
     "data": {
      "text/plain": [
       "<Figure size 432x288 with 0 Axes>"
      ]
     },
     "metadata": {},
     "output_type": "display_data"
    }
   ],
   "source": [
    "plt.plot(history.history['loss'], label='train_loss')\n",
    "plt.plot(history.history['val_loss'], label='val_loss')\n",
    "plt.ylabel('Loss')\n",
    "plt.xlabel('Epoch')\n",
    "plt.legend()\n",
    "plt.show()\n",
    "plt.clf()\n",
    "\n",
    "plt.plot(history.history['acc'], label='train_acc')\n",
    "plt.plot(history.history['val_acc'], label='val_acc')\n",
    "plt.ylabel('Accuracy (%)')\n",
    "plt.xlabel('Epoch')\n",
    "plt.legend()\n",
    "plt.show()\n",
    "plt.clf()"
   ]
  },
  {
   "cell_type": "markdown",
   "metadata": {},
   "source": [
    "# Evaluate"
   ]
  },
  {
   "cell_type": "code",
   "execution_count": 11,
   "metadata": {
    "colab": {
     "base_uri": "https://localhost:8080/",
     "height": 229
    },
    "id": "JF3IM-7J1Z9a",
    "outputId": "b8053314-7ad9-486e-941c-b9b557ab6d0c"
   },
   "outputs": [
    {
     "name": "stdout",
     "output_type": "stream",
     "text": [
      "Accuracy: 0.886\n"
     ]
    },
    {
     "name": "stderr",
     "output_type": "stream",
     "text": [
      "<ipython-input-11-d7f42dffa92d>:6: FutureWarning: elementwise comparison failed; returning scalar instead, but in the future will perform elementwise comparison\n",
      "  test_label[test_label == '0'] = 0\n",
      "<ipython-input-11-d7f42dffa92d>:7: FutureWarning: elementwise comparison failed; returning scalar instead, but in the future will perform elementwise comparison\n",
      "  test_label[test_label == '1'] = 1\n"
     ]
    }
   ],
   "source": [
    "test_data, test_label = load_data('test')\n",
    "test_label = np.array(test_label[:1000]).reshape(-1, 1)\n",
    "test_data = normalize_data(test_data[:1000])\n",
    "test_label[test_label == '\\\"'] = 0\n",
    "test_label = test_label.astype('int')\n",
    "test_label[test_label == '0'] = 0\n",
    "test_label[test_label == '1'] = 1\n",
    "\n",
    "test_sequences = tokenizer.texts_to_sequences(test_data)\n",
    "test_padded = pad_sequences(test_sequences, maxlen=max_length, padding=padding_type, truncating=trunc_type)\n",
    "\n",
    "test_predict = model.predict(test_padded)\n",
    "test_predict[test_predict >= 0.5] = 1\n",
    "test_predict[test_predict < 0.5] = 0\n",
    "print('Accuracy:', (test_label == test_predict).sum() / test_label.shape[0])"
   ]
  },
  {
   "cell_type": "code",
   "execution_count": null,
   "metadata": {},
   "outputs": [],
   "source": []
  }
 ],
 "metadata": {
  "accelerator": "GPU",
  "colab": {
   "collapsed_sections": [],
   "name": "Sun",
   "provenance": []
  },
  "kernelspec": {
   "display_name": "TensorFlow-GPU",
   "language": "python",
   "name": "tf-gpu"
  },
  "language_info": {
   "codemirror_mode": {
    "name": "ipython",
    "version": 3
   },
   "file_extension": ".py",
   "mimetype": "text/x-python",
   "name": "python",
   "nbconvert_exporter": "python",
   "pygments_lexer": "ipython3",
   "version": "3.8.8"
  }
 },
 "nbformat": 4,
 "nbformat_minor": 1
}
